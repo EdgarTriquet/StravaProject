{
 "cells": [
  {
   "cell_type": "code",
   "execution_count": 2,
   "id": "cd7f734e",
   "metadata": {},
   "outputs": [
    {
     "name": "stdout",
     "output_type": "stream",
     "text": [
      "Requesting Token...\n",
      "\n",
      "Access Token = 20eecc8e01fceb9ff7bd2d5e73f9ecc26b37d565\n",
      "\n"
     ]
    }
   ],
   "source": [
    "import requests\n",
    "import urllib3\n",
    "urllib3.disable_warnings(urllib3.exceptions.InsecureRequestWarning)\n",
    "\n",
    "auth_url = \"https://www.strava.com/oauth/token\"\n",
    "activites_url = \"https://www.strava.com/api/v3/athlete/activities\"\n",
    "\n",
    "payload = {\n",
    "    'client_id': \"73446\",\n",
    "    'client_secret': '1372749daff6b1fcfba10d133829e12fa0ef3829',\n",
    "    'refresh_token': 'f5e435d6ca868b3efa23f99ae5c00d4dafcbdb23',\n",
    "    'grant_type': \"refresh_token\",\n",
    "    'f': 'json'\n",
    "}\n",
    "\n",
    "print(\"Requesting Token...\\n\")\n",
    "res = requests.post(auth_url, data=payload, verify=False)\n",
    "access_token = res.json()['access_token']\n",
    "print(\"Access Token = {}\\n\".format(access_token))\n",
    "\n",
    "header = {'Authorization': 'Bearer ' + access_token}\n",
    "param = {'per_page': 200, 'page': 1}\n",
    "my_dataset = requests.get(activites_url, headers=header, params=param).json()\n"
   ]
  },
  {
   "cell_type": "code",
   "execution_count": 15,
   "id": "9c781980",
   "metadata": {},
   "outputs": [
    {
     "data": {
      "text/plain": [
       "0      g9236392\n",
       "1      g9236392\n",
       "2      g9236392\n",
       "3          None\n",
       "4      g8920474\n",
       "         ...   \n",
       "140    g5452698\n",
       "141    g5452698\n",
       "142    g5452698\n",
       "143    g5452698\n",
       "144    g5452698\n",
       "Name: gear_id, Length: 145, dtype: object"
      ]
     },
     "execution_count": 15,
     "metadata": {},
     "output_type": "execute_result"
    }
   ],
   "source": [
    "import pandas as pd\n",
    "from pandas import json_normalize\n",
    "#Seaborn is a data visualization library.\n",
    "import seaborn as sns \n",
    "import matplotlib.pyplot as plt\n",
    "import numpy as np\n",
    "from datetime import datetime\n",
    "activities = json_normalize(my_dataset)\n",
    "activities[\"gear_id\"]"
   ]
  },
  {
   "cell_type": "code",
   "execution_count": 4,
   "id": "880a847b",
   "metadata": {},
   "outputs": [
    {
     "data": {
      "text/html": [
       "<div>\n",
       "<style scoped>\n",
       "    .dataframe tbody tr th:only-of-type {\n",
       "        vertical-align: middle;\n",
       "    }\n",
       "\n",
       "    .dataframe tbody tr th {\n",
       "        vertical-align: top;\n",
       "    }\n",
       "\n",
       "    .dataframe thead th {\n",
       "        text-align: right;\n",
       "    }\n",
       "</style>\n",
       "<table border=\"1\" class=\"dataframe\">\n",
       "  <thead>\n",
       "    <tr style=\"text-align: right;\">\n",
       "      <th></th>\n",
       "      <th>name</th>\n",
       "      <th>upload_id</th>\n",
       "      <th>type</th>\n",
       "      <th>distance</th>\n",
       "      <th>moving_time</th>\n",
       "      <th>average_speed</th>\n",
       "      <th>max_speed</th>\n",
       "      <th>total_elevation_gain</th>\n",
       "      <th>start_date_local</th>\n",
       "      <th>start_time</th>\n",
       "    </tr>\n",
       "  </thead>\n",
       "  <tbody>\n",
       "    <tr>\n",
       "      <th>0</th>\n",
       "      <td>Lunch Run</td>\n",
       "      <td>6560020544</td>\n",
       "      <td>Run</td>\n",
       "      <td>10052.9</td>\n",
       "      <td>2566</td>\n",
       "      <td>3.918</td>\n",
       "      <td>7.293</td>\n",
       "      <td>104.0</td>\n",
       "      <td>2021-10-27</td>\n",
       "      <td>11:27:54</td>\n",
       "    </tr>\n",
       "    <tr>\n",
       "      <th>1</th>\n",
       "      <td>Evening Run</td>\n",
       "      <td>6556964186</td>\n",
       "      <td>Run</td>\n",
       "      <td>10703.1</td>\n",
       "      <td>3283</td>\n",
       "      <td>3.260</td>\n",
       "      <td>6.526</td>\n",
       "      <td>89.0</td>\n",
       "      <td>2021-10-26</td>\n",
       "      <td>18:15:42</td>\n",
       "    </tr>\n",
       "    <tr>\n",
       "      <th>2</th>\n",
       "      <td>Evening Run</td>\n",
       "      <td>6521705639</td>\n",
       "      <td>Run</td>\n",
       "      <td>9963.9</td>\n",
       "      <td>3219</td>\n",
       "      <td>3.095</td>\n",
       "      <td>6.416</td>\n",
       "      <td>69.0</td>\n",
       "      <td>2021-10-19</td>\n",
       "      <td>18:02:40</td>\n",
       "    </tr>\n",
       "    <tr>\n",
       "      <th>3</th>\n",
       "      <td>Afternoon Swim</td>\n",
       "      <td>6516212344</td>\n",
       "      <td>Swim</td>\n",
       "      <td>1800.0</td>\n",
       "      <td>2215</td>\n",
       "      <td>0.813</td>\n",
       "      <td>5.000</td>\n",
       "      <td>0.0</td>\n",
       "      <td>2021-10-18</td>\n",
       "      <td>16:42:56</td>\n",
       "    </tr>\n",
       "    <tr>\n",
       "      <th>4</th>\n",
       "      <td>Semi trail de la brie des morins</td>\n",
       "      <td>6509505417</td>\n",
       "      <td>Run</td>\n",
       "      <td>20811.0</td>\n",
       "      <td>5587</td>\n",
       "      <td>3.720</td>\n",
       "      <td>7.300</td>\n",
       "      <td>377.0</td>\n",
       "      <td>2021-10-17</td>\n",
       "      <td>09:38:18</td>\n",
       "    </tr>\n",
       "  </tbody>\n",
       "</table>\n",
       "</div>"
      ],
      "text/plain": [
       "                               name   upload_id  type  distance  moving_time  \\\n",
       "0                         Lunch Run  6560020544   Run   10052.9         2566   \n",
       "1                       Evening Run  6556964186   Run   10703.1         3283   \n",
       "2                       Evening Run  6521705639   Run    9963.9         3219   \n",
       "3                    Afternoon Swim  6516212344  Swim    1800.0         2215   \n",
       "4  Semi trail de la brie des morins  6509505417   Run   20811.0         5587   \n",
       "\n",
       "   average_speed  max_speed  total_elevation_gain start_date_local start_time  \n",
       "0          3.918      7.293                 104.0       2021-10-27   11:27:54  \n",
       "1          3.260      6.526                  89.0       2021-10-26   18:15:42  \n",
       "2          3.095      6.416                  69.0       2021-10-19   18:02:40  \n",
       "3          0.813      5.000                   0.0       2021-10-18   16:42:56  \n",
       "4          3.720      7.300                 377.0       2021-10-17   09:38:18  "
      ]
     },
     "execution_count": 4,
     "metadata": {},
     "output_type": "execute_result"
    }
   ],
   "source": [
    "cols = ['name', 'upload_id', 'type', 'distance', 'moving_time',   \n",
    "         'average_speed', 'max_speed','total_elevation_gain',\n",
    "         'start_date_local'\n",
    "       ]\n",
    "activities = activities[cols]\n",
    "#Break date into start time and date\n",
    "activities['start_date_local'] = pd.to_datetime(activities['start_date_local'])\n",
    "activities['start_time'] = activities['start_date_local'].dt.time\n",
    "activities['start_date_local'] = activities['start_date_local'].dt.date\n",
    "activities.head(5)\n"
   ]
  },
  {
   "cell_type": "code",
   "execution_count": 5,
   "id": "48e46319",
   "metadata": {},
   "outputs": [
    {
     "data": {
      "text/plain": [
       "333.3333333333333"
      ]
     },
     "execution_count": 5,
     "metadata": {},
     "output_type": "execute_result"
    }
   ],
   "source": [
    "def convTime(metSec):\n",
    "    minDecimal = 1000/(metSec)\n",
    "    minutes = int(minDecimal)\n",
    "    secondes = int((minDecimal*60) % 60)\n",
    "    return minDecimal#str(minutes)+'min'+str(secondes)\n",
    "\n",
    "convTime(3)"
   ]
  },
  {
   "cell_type": "code",
   "execution_count": 6,
   "id": "fae235c3",
   "metadata": {},
   "outputs": [
    {
     "data": {
      "text/plain": [
       "Index(['name', 'upload_id', 'type', 'distance', 'moving_time', 'average_speed',\n",
       "       'max_speed', 'total_elevation_gain', 'start_date_local', 'start_time',\n",
       "       'kilometer', 'avg_speed_minKm', 'weekday'],\n",
       "      dtype='object')"
      ]
     },
     "execution_count": 6,
     "metadata": {},
     "output_type": "execute_result"
    }
   ],
   "source": [
    "activities['kilometer'] = activities['distance'].apply(lambda x: x/1000)\n",
    "activities['avg_speed_minKm'] = activities['average_speed'].apply(lambda x: convTime(x))\n",
    "activities['avg_speed_minKm'] = pd.to_datetime(activities['avg_speed_minKm'], unit='s').dt.strftime(\"%H:%M:%S\")\n",
    "activities['weekday'] = activities['start_date_local'].apply(lambda x: ['Lun','Mar','Mer','Jeu','Ven','Sam','Dim'][x.weekday()])\n",
    "activities['weekday'] = pd.Categorical(activities['weekday'],\n",
    "                                   categories=['Lun','Mar','Mer','Jeu','Ven','Sam','Dim'],\n",
    "                                   ordered=True)\n",
    "activities.columns"
   ]
  },
  {
   "cell_type": "code",
   "execution_count": 7,
   "id": "c25c755d",
   "metadata": {},
   "outputs": [
    {
     "data": {
      "text/html": [
       "<div>\n",
       "<style scoped>\n",
       "    .dataframe tbody tr th:only-of-type {\n",
       "        vertical-align: middle;\n",
       "    }\n",
       "\n",
       "    .dataframe tbody tr th {\n",
       "        vertical-align: top;\n",
       "    }\n",
       "\n",
       "    .dataframe thead th {\n",
       "        text-align: right;\n",
       "    }\n",
       "</style>\n",
       "<table border=\"1\" class=\"dataframe\">\n",
       "  <thead>\n",
       "    <tr style=\"text-align: right;\">\n",
       "      <th></th>\n",
       "      <th>name</th>\n",
       "      <th>upload_id</th>\n",
       "      <th>type</th>\n",
       "      <th>distance</th>\n",
       "      <th>moving_time</th>\n",
       "      <th>average_speed</th>\n",
       "      <th>max_speed</th>\n",
       "      <th>total_elevation_gain</th>\n",
       "      <th>start_date_local</th>\n",
       "      <th>start_time</th>\n",
       "      <th>kilometer</th>\n",
       "      <th>avg_speed_minKm</th>\n",
       "      <th>weekday</th>\n",
       "    </tr>\n",
       "  </thead>\n",
       "  <tbody>\n",
       "    <tr>\n",
       "      <th>0</th>\n",
       "      <td>Lunch Run</td>\n",
       "      <td>6560020544</td>\n",
       "      <td>Run</td>\n",
       "      <td>10052.9</td>\n",
       "      <td>2566</td>\n",
       "      <td>3.918</td>\n",
       "      <td>7.293</td>\n",
       "      <td>104.0</td>\n",
       "      <td>2021-10-27</td>\n",
       "      <td>11:27:54</td>\n",
       "      <td>10.0529</td>\n",
       "      <td>00:04:15</td>\n",
       "      <td>Mer</td>\n",
       "    </tr>\n",
       "    <tr>\n",
       "      <th>1</th>\n",
       "      <td>Evening Run</td>\n",
       "      <td>6556964186</td>\n",
       "      <td>Run</td>\n",
       "      <td>10703.1</td>\n",
       "      <td>3283</td>\n",
       "      <td>3.260</td>\n",
       "      <td>6.526</td>\n",
       "      <td>89.0</td>\n",
       "      <td>2021-10-26</td>\n",
       "      <td>18:15:42</td>\n",
       "      <td>10.7031</td>\n",
       "      <td>00:05:06</td>\n",
       "      <td>Mar</td>\n",
       "    </tr>\n",
       "    <tr>\n",
       "      <th>2</th>\n",
       "      <td>Evening Run</td>\n",
       "      <td>6521705639</td>\n",
       "      <td>Run</td>\n",
       "      <td>9963.9</td>\n",
       "      <td>3219</td>\n",
       "      <td>3.095</td>\n",
       "      <td>6.416</td>\n",
       "      <td>69.0</td>\n",
       "      <td>2021-10-19</td>\n",
       "      <td>18:02:40</td>\n",
       "      <td>9.9639</td>\n",
       "      <td>00:05:23</td>\n",
       "      <td>Mar</td>\n",
       "    </tr>\n",
       "    <tr>\n",
       "      <th>4</th>\n",
       "      <td>Semi trail de la brie des morins</td>\n",
       "      <td>6509505417</td>\n",
       "      <td>Run</td>\n",
       "      <td>20811.0</td>\n",
       "      <td>5587</td>\n",
       "      <td>3.720</td>\n",
       "      <td>7.300</td>\n",
       "      <td>377.0</td>\n",
       "      <td>2021-10-17</td>\n",
       "      <td>09:38:18</td>\n",
       "      <td>20.8110</td>\n",
       "      <td>00:04:28</td>\n",
       "      <td>Dim</td>\n",
       "    </tr>\n",
       "    <tr>\n",
       "      <th>5</th>\n",
       "      <td>Afternoon Run</td>\n",
       "      <td>6500706698</td>\n",
       "      <td>Run</td>\n",
       "      <td>12642.7</td>\n",
       "      <td>3830</td>\n",
       "      <td>3.301</td>\n",
       "      <td>6.100</td>\n",
       "      <td>126.0</td>\n",
       "      <td>2021-10-15</td>\n",
       "      <td>17:30:40</td>\n",
       "      <td>12.6427</td>\n",
       "      <td>00:05:02</td>\n",
       "      <td>Ven</td>\n",
       "    </tr>\n",
       "    <tr>\n",
       "      <th>...</th>\n",
       "      <td>...</td>\n",
       "      <td>...</td>\n",
       "      <td>...</td>\n",
       "      <td>...</td>\n",
       "      <td>...</td>\n",
       "      <td>...</td>\n",
       "      <td>...</td>\n",
       "      <td>...</td>\n",
       "      <td>...</td>\n",
       "      <td>...</td>\n",
       "      <td>...</td>\n",
       "      <td>...</td>\n",
       "      <td>...</td>\n",
       "    </tr>\n",
       "    <tr>\n",
       "      <th>140</th>\n",
       "      <td>Course à pied matinale</td>\n",
       "      <td>3280522106</td>\n",
       "      <td>Run</td>\n",
       "      <td>6273.8</td>\n",
       "      <td>1894</td>\n",
       "      <td>3.312</td>\n",
       "      <td>24.700</td>\n",
       "      <td>285.9</td>\n",
       "      <td>2020-02-05</td>\n",
       "      <td>10:40:09</td>\n",
       "      <td>6.2738</td>\n",
       "      <td>00:05:01</td>\n",
       "      <td>Mer</td>\n",
       "    </tr>\n",
       "    <tr>\n",
       "      <th>141</th>\n",
       "      <td>Course à pied dans l'après-midi</td>\n",
       "      <td>3233090164</td>\n",
       "      <td>Run</td>\n",
       "      <td>7477.8</td>\n",
       "      <td>2025</td>\n",
       "      <td>3.693</td>\n",
       "      <td>8.000</td>\n",
       "      <td>19.8</td>\n",
       "      <td>2020-01-21</td>\n",
       "      <td>17:14:31</td>\n",
       "      <td>7.4778</td>\n",
       "      <td>00:04:30</td>\n",
       "      <td>Mar</td>\n",
       "    </tr>\n",
       "    <tr>\n",
       "      <th>142</th>\n",
       "      <td>Course à pied matinale</td>\n",
       "      <td>3219075768</td>\n",
       "      <td>Run</td>\n",
       "      <td>5527.8</td>\n",
       "      <td>1370</td>\n",
       "      <td>4.035</td>\n",
       "      <td>8.300</td>\n",
       "      <td>17.8</td>\n",
       "      <td>2020-01-17</td>\n",
       "      <td>10:22:55</td>\n",
       "      <td>5.5278</td>\n",
       "      <td>00:04:07</td>\n",
       "      <td>Ven</td>\n",
       "    </tr>\n",
       "    <tr>\n",
       "      <th>143</th>\n",
       "      <td>Course à pied dans l'après-midi</td>\n",
       "      <td>3213652904</td>\n",
       "      <td>Run</td>\n",
       "      <td>8261.9</td>\n",
       "      <td>2242</td>\n",
       "      <td>3.685</td>\n",
       "      <td>7.700</td>\n",
       "      <td>59.7</td>\n",
       "      <td>2020-01-15</td>\n",
       "      <td>16:37:42</td>\n",
       "      <td>8.2619</td>\n",
       "      <td>00:04:31</td>\n",
       "      <td>Mer</td>\n",
       "    </tr>\n",
       "    <tr>\n",
       "      <th>144</th>\n",
       "      <td>Course à pied dans l'après-midi</td>\n",
       "      <td>3207157142</td>\n",
       "      <td>Run</td>\n",
       "      <td>21684.5</td>\n",
       "      <td>6897</td>\n",
       "      <td>3.144</td>\n",
       "      <td>7.300</td>\n",
       "      <td>279.9</td>\n",
       "      <td>2020-01-13</td>\n",
       "      <td>14:40:33</td>\n",
       "      <td>21.6845</td>\n",
       "      <td>00:05:18</td>\n",
       "      <td>Lun</td>\n",
       "    </tr>\n",
       "  </tbody>\n",
       "</table>\n",
       "<p>135 rows × 13 columns</p>\n",
       "</div>"
      ],
      "text/plain": [
       "                                 name   upload_id type  distance  moving_time  \\\n",
       "0                           Lunch Run  6560020544  Run   10052.9         2566   \n",
       "1                         Evening Run  6556964186  Run   10703.1         3283   \n",
       "2                         Evening Run  6521705639  Run    9963.9         3219   \n",
       "4    Semi trail de la brie des morins  6509505417  Run   20811.0         5587   \n",
       "5                       Afternoon Run  6500706698  Run   12642.7         3830   \n",
       "..                                ...         ...  ...       ...          ...   \n",
       "140            Course à pied matinale  3280522106  Run    6273.8         1894   \n",
       "141   Course à pied dans l'après-midi  3233090164  Run    7477.8         2025   \n",
       "142            Course à pied matinale  3219075768  Run    5527.8         1370   \n",
       "143   Course à pied dans l'après-midi  3213652904  Run    8261.9         2242   \n",
       "144   Course à pied dans l'après-midi  3207157142  Run   21684.5         6897   \n",
       "\n",
       "     average_speed  max_speed  total_elevation_gain start_date_local  \\\n",
       "0            3.918      7.293                 104.0       2021-10-27   \n",
       "1            3.260      6.526                  89.0       2021-10-26   \n",
       "2            3.095      6.416                  69.0       2021-10-19   \n",
       "4            3.720      7.300                 377.0       2021-10-17   \n",
       "5            3.301      6.100                 126.0       2021-10-15   \n",
       "..             ...        ...                   ...              ...   \n",
       "140          3.312     24.700                 285.9       2020-02-05   \n",
       "141          3.693      8.000                  19.8       2020-01-21   \n",
       "142          4.035      8.300                  17.8       2020-01-17   \n",
       "143          3.685      7.700                  59.7       2020-01-15   \n",
       "144          3.144      7.300                 279.9       2020-01-13   \n",
       "\n",
       "    start_time  kilometer avg_speed_minKm weekday  \n",
       "0     11:27:54    10.0529        00:04:15     Mer  \n",
       "1     18:15:42    10.7031        00:05:06     Mar  \n",
       "2     18:02:40     9.9639        00:05:23     Mar  \n",
       "4     09:38:18    20.8110        00:04:28     Dim  \n",
       "5     17:30:40    12.6427        00:05:02     Ven  \n",
       "..         ...        ...             ...     ...  \n",
       "140   10:40:09     6.2738        00:05:01     Mer  \n",
       "141   17:14:31     7.4778        00:04:30     Mar  \n",
       "142   10:22:55     5.5278        00:04:07     Ven  \n",
       "143   16:37:42     8.2619        00:04:31     Mer  \n",
       "144   14:40:33    21.6845        00:05:18     Lun  \n",
       "\n",
       "[135 rows x 13 columns]"
      ]
     },
     "execution_count": 7,
     "metadata": {},
     "output_type": "execute_result"
    }
   ],
   "source": [
    "runs = activities.loc[activities['type'] == 'Run']\n",
    "runs"
   ]
  },
  {
   "cell_type": "code",
   "execution_count": 16,
   "id": "09e9579a",
   "metadata": {},
   "outputs": [
    {
     "data": {
      "image/png": "[encoded data removed]",
      "text/plain": [
       "<Figure size 720x576 with 1 Axes>"
      ]
     },
     "metadata": {},
     "output_type": "display_data"
    }
   ],
   "source": [
    "sns.set(rc={\"figure.figsize\":(10, 8)}) \n",
    "sns.scatterplot(data=runs, x=\"kilometer\", y=\"average_speed\", hue=\"total_elevation_gain\", palette=\"crest\")\n",
    "plt.savefig(\"scatterplot1.pdf\")"
   ]
  },
  {
   "cell_type": "code",
   "execution_count": 7,
   "id": "654a477e",
   "metadata": {},
   "outputs": [
    {
     "data": {
      "image/png": "[encoded data removed]",
      "text/plain": [
       "<Figure size 432x432 with 3 Axes>"
      ]
     },
     "metadata": {
      "needs_background": "light"
     },
     "output_type": "display_data"
    }
   ],
   "source": [
    "sns.jointplot(x = \"kilometer\", y = \"average_speed\", data=runs, kind='reg');"
   ]
  },
  {
   "cell_type": "code",
   "execution_count": 8,
   "id": "296676bc",
   "metadata": {},
   "outputs": [
    {
     "data": {
      "text/plain": [
       "<AxesSubplot:xlabel='weekday', ylabel='Count'>"
      ]
     },
     "execution_count": 8,
     "metadata": {},
     "output_type": "execute_result"
    },
    {
     "data": {
      "image/png": "[encoded data removed]",
      "text/plain": [
       "<Figure size 432x288 with 1 Axes>"
      ]
     },
     "metadata": {
      "needs_background": "light"
     },
     "output_type": "display_data"
    }
   ],
   "source": [
    "sns.histplot(data=runs, x=\"weekday\", shrink=.8)\n"
   ]
  },
  {
   "cell_type": "code",
   "execution_count": 9,
   "id": "47d335b1",
   "metadata": {},
   "outputs": [
    {
     "name": "stderr",
     "output_type": "stream",
     "text": [
      "/tmp/ipykernel_84762/2541913138.py:10: UserWarning: Matplotlib is currently using module://matplotlib_inline.backend_inline, which is a non-GUI backend, so cannot show the figure.\n",
      "  fig.show()\n"
     ]
    },
    {
     "data": {
      "image/png": "[encoded data removed]",
      "text/plain": [
       "<Figure size 432x288 with 1 Axes>"
      ]
     },
     "metadata": {
      "needs_background": "light"
     },
     "output_type": "display_data"
    }
   ],
   "source": [
    "\n",
    "fig = plt.figure() #create overall container\n",
    "ax1 = fig.add_subplot(111) #add a 1 by 1 plot to the figure\n",
    "x = np.asarray(runs.start_date_local)  #convert data to numpy array\n",
    "y = np.asarray(runs.average_speed)\n",
    "ax1.plot_date(x, y) #plot data points in scatter plot on ax1\n",
    "ax1.set_title('Average Speed over Time')\n",
    "\n",
    "fig.autofmt_xdate(rotation=45)\n",
    "fig.tight_layout()\n",
    "fig.show()"
   ]
  }
 ],
 "metadata": {
  "interpreter": {
   "hash": "7045f901723c4af8e80ec46768042020f6133cdc698ce355906037ee8df08745"
  },
  "kernelspec": {
   "display_name": "Python 3 (ipykernel)",
   "language": "python",
   "name": "python3"
  },
  "language_info": {
   "codemirror_mode": {
    "name": "ipython",
    "version": 3
   },
   "file_extension": ".py",
   "mimetype": "text/x-python",
   "name": "python",
   "nbconvert_exporter": "python",
   "pygments_lexer": "ipython3",
   "version": "3.8.8"
  }
 },
 "nbformat": 4,
 "nbformat_minor": 5
}
